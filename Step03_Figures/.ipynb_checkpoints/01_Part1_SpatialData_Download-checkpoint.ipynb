{
 "cells": [
  {
   "cell_type": "markdown",
   "metadata": {},
   "source": [
    "# Download GEE Data"
   ]
  },
  {
   "cell_type": "code",
   "execution_count": 1,
   "metadata": {},
   "outputs": [],
   "source": [
    "import os, shutil\n",
    "\n",
    "# Print current directory\n",
    "print('Current Directory: ' + os.getcwd())\n",
    "\n",
    "main_folder = os.path.dirname(os.getcwd())\n",
    "\n",
    "os.chdir(os.path.join(main_folder, \"Data\", \"spatial_data\"))"
   ]
  },
  {
   "cell_type": "markdown",
   "metadata": {},
   "source": [
    "## Install geemap package"
   ]
  },
  {
   "cell_type": "code",
   "execution_count": 3,
   "metadata": {
    "scrolled": true
   },
   "outputs": [],
   "source": [
    "# Installs geemap package\n",
    "import sys, site\n",
    "\n",
    "try:\n",
    "    import geemap\n",
    "except ImportError:\n",
    "    # If error with this cell, try commenting out next line and un-commenting two lines below.\n",
    "    !pip install -U geemap\n",
    "    # !{sys.executable} -m pip install geemap==0.9.1\n",
    "    sys.path.insert(0, site.getusersitepackages())\n",
    "\n",
    "# Authenticates and initializes Earth Engine\n",
    "import ee\n",
    "import geemap\n",
    "\n",
    "try:\n",
    "    ee.Initialize()\n",
    "except Exception as e:\n",
    "    ee.Authenticate()\n",
    "    ee.Initialize()  "
   ]
  },
  {
   "cell_type": "markdown",
   "metadata": {},
   "source": [
    "## Create an interactive map"
   ]
  },
  {
   "cell_type": "code",
   "execution_count": 4,
   "metadata": {},
   "outputs": [
    {
     "data": {
      "application/vnd.jupyter.widget-view+json": {
       "model_id": "4c67664ca17348c1bff1c89216f0bc99",
       "version_major": 2,
       "version_minor": 0
      },
      "text/plain": [
       "Map(center=[34, -118], controls=(WidgetControl(options=['position', 'transparent_bg'], widget=HBox(children=(T…"
      ]
     },
     "metadata": {},
     "output_type": "display_data"
    }
   ],
   "source": [
    "Map = geemap.Map(center=[34, -118], zoom=9)\n",
    "Map"
   ]
  },
  {
   "cell_type": "markdown",
   "metadata": {},
   "source": [
    "## Define AOI Using Polygon \n",
    "*** DRAW POLYGON AROUND LA METRO AREA NOW ***"
   ]
  },
  {
   "cell_type": "code",
   "execution_count": 5,
   "metadata": {},
   "outputs": [],
   "source": [
    "# Set AOI\n",
    "aoi = ee.Geometry(ee.FeatureCollection(Map.draw_features).geometry())"
   ]
  },
  {
   "cell_type": "code",
   "execution_count": 7,
   "metadata": {},
   "outputs": [
    {
     "name": "stdout",
     "output_type": "stream",
     "text": [
      "Generating URL ...\n",
      "Downloading data from https://earthengine.googleapis.com/v1alpha/projects/earthengine-legacy/thumbnails/21a916acafed9570279c85503d15914b-08dd8f1f04539f86553825b64f18374d:getPixels\n",
      "Please wait ...\n",
      "Data downloaded to /home/teaganbaiotto/Documents/bioscan/Figure_2/spatial_data/bio01.tif\n"
     ]
    }
   ],
   "source": [
    "# Download bio1\n",
    "# Specify data product of interest and associated information needed\n",
    "product = \"WORLDCLIM/V1/BIO\"\n",
    "\n",
    "band_name = 'bio01'\n",
    "image = ee.Image(product).clip(aoi).select(band_name)\n",
    "\n",
    "# Display\n",
    "Map.addLayer(image)\n",
    "\n",
    "# Save\n",
    "geemap.ee_export_image(image, filename=band_name + '.tif', region=aoi, scale=1000, crs='epsg:4326')"
   ]
  },
  {
   "cell_type": "code",
   "execution_count": 8,
   "metadata": {},
   "outputs": [
    {
     "name": "stdout",
     "output_type": "stream",
     "text": [
      "Generating URL ...\n",
      "Downloading data from https://earthengine.googleapis.com/v1alpha/projects/earthengine-legacy/thumbnails/5618514430600a8d4a79462b6e201503-cf5ca3f9bd8432a96fe6190234943dac:getPixels\n",
      "Please wait ...\n",
      "Data downloaded to /home/teaganbaiotto/Documents/bioscan/Figure_2/spatial_data/bio02.tif\n"
     ]
    }
   ],
   "source": [
    "# Download bio2\n",
    "# Specify data product of interest and associated information needed\n",
    "product = \"WORLDCLIM/V1/BIO\"\n",
    "\n",
    "band_name = 'bio02'\n",
    "image = ee.Image(product).clip(aoi).select(band_name)\n",
    "\n",
    "# Display\n",
    "Map.addLayer(image)\n",
    "\n",
    "# Save\n",
    "geemap.ee_export_image(image, filename=band_name + '.tif', region=aoi, scale=1000, crs='epsg:4326')"
   ]
  },
  {
   "cell_type": "code",
   "execution_count": 9,
   "metadata": {},
   "outputs": [
    {
     "name": "stdout",
     "output_type": "stream",
     "text": [
      "Generating URL ...\n",
      "Downloading data from https://earthengine.googleapis.com/v1alpha/projects/earthengine-legacy/thumbnails/9d4de81df18aa5066015642f44ff8eb0-0f4fad64db7260afbf6a462d2ec5428e:getPixels\n",
      "Please wait ...\n",
      "Data downloaded to /home/teaganbaiotto/Documents/bioscan/Figure_2/spatial_data/elevation.tif\n"
     ]
    }
   ],
   "source": [
    "# Download DEM\n",
    "# Specify data product of interest and associated information needed\n",
    "product = \"NASA/NASADEM_HGT/001\"\n",
    "\n",
    "band_name = 'elevation'\n",
    "image = ee.Image(product).clip(aoi).select(band_name)\n",
    "\n",
    "# Display\n",
    "Map.addLayer(image)\n",
    "\n",
    "# Save\n",
    "geemap.ee_export_image(image, filename=band_name + '.tif', region=aoi, scale=1000, crs='epsg:4326')"
   ]
  },
  {
   "cell_type": "code",
   "execution_count": 13,
   "metadata": {},
   "outputs": [
    {
     "name": "stdout",
     "output_type": "stream",
     "text": [
      "Generating URL ...\n",
      "Downloading data from https://earthengine.googleapis.com/v1alpha/projects/earthengine-legacy/thumbnails/f4dedea573473ed0b1462ef6987ba364-5c17d7bfda4d073e4a5e99a2fd3176cd:getPixels\n",
      "Please wait ...\n",
      "Data downloaded to /home/teaganbaiotto/Documents/bioscan/Figure_2/spatial_data/impervious.tif\n"
     ]
    }
   ],
   "source": [
    "# Download impervious cover\n",
    "# Specify data product of interest and associated information needed\n",
    "product = \"USGS/NLCD_RELEASES/2019_REL/NLCD\"\n",
    "\n",
    "band_name = 'impervious'\n",
    "image_col = ee.ImageCollection(product).filterBounds(aoi).filterDate(f'2019-01-01',f'2019-12-31').select(band_name)\n",
    "image = image_col.first().clip(aoi).select(band_name).reproject(crs=image_col.first().projection(), scale=1000);\n",
    "\n",
    "# Display\n",
    "Map.addLayer(image)\n",
    "\n",
    "# Save\n",
    "geemap.ee_export_image(image, filename=band_name + '.tif', region=aoi, scale=1000, crs='epsg:4326')"
   ]
  },
  {
   "cell_type": "code",
   "execution_count": null,
   "metadata": {},
   "outputs": [],
   "source": []
  }
 ],
 "metadata": {
  "kernelspec": {
   "display_name": "Python 3 (ipykernel)",
   "language": "python",
   "name": "python3"
  },
  "language_info": {
   "codemirror_mode": {
    "name": "ipython",
    "version": 3
   },
   "file_extension": ".py",
   "mimetype": "text/x-python",
   "name": "python",
   "nbconvert_exporter": "python",
   "pygments_lexer": "ipython3",
   "version": "3.10.9"
  }
 },
 "nbformat": 4,
 "nbformat_minor": 4
}
